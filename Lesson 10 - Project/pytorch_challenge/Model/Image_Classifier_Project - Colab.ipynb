{
  "nbformat": 4,
  "nbformat_minor": 0,
  "metadata": {
    "colab": {
      "name": "Image Classifier Project.ipynb",
      "version": "0.3.2",
      "provenance": [],
      "collapsed_sections": [],
      "toc_visible": true
    },
    "kernelspec": {
      "name": "python3",
      "display_name": "Python 3"
    },
    "accelerator": "GPU"
  },
  "cells": [
    {
      "metadata": {
        "id": "Trwz8ebiX0HD",
        "colab_type": "text"
      },
      "cell_type": "markdown",
      "source": [
        "# Mounting Google Drive to Colab\n",
        "\n",
        "Here, we are going to connect our Google Drive to our Colab"
      ]
    },
    {
      "metadata": {
        "id": "OgO1WpfJYAia",
        "colab_type": "code",
        "outputId": "c2b1e9d1-7b6e-4294-da75-c95c8b521a19",
        "colab": {
          "base_uri": "https://localhost:8080/",
          "height": 54
        }
      },
      "cell_type": "code",
      "source": [
        "from google.colab import drive\n",
        "\n",
        "drive.mount('/content/gdrive')\n",
        "DIR = \"/content/gdrive/My Drive/Career/Projects/PyTorch Nanodegree\""
      ],
      "execution_count": 0,
      "outputs": [
        {
          "output_type": "stream",
          "text": [
            "Drive already mounted at /content/gdrive; to attempt to forcibly remount, call drive.mount(\"/content/gdrive\", force_remount=True).\n"
          ],
          "name": "stdout"
        }
      ]
    },
    {
      "metadata": {
        "id": "F3PmImNxzltB",
        "colab_type": "text"
      },
      "cell_type": "markdown",
      "source": [
        "# Configure Environment"
      ]
    },
    {
      "metadata": {
        "id": "6HnV4wMLQesZ",
        "colab_type": "code",
        "outputId": "267a2208-3da6-409d-f0db-b80d7456b79d",
        "colab": {
          "base_uri": "https://localhost:8080/",
          "height": 102
        }
      },
      "cell_type": "code",
      "source": [
        "!lsb_release -a"
      ],
      "execution_count": 0,
      "outputs": [
        {
          "output_type": "stream",
          "text": [
            "No LSB modules are available.\n",
            "Distributor ID:\tUbuntu\n",
            "Description:\tUbuntu 18.04.1 LTS\n",
            "Release:\t18.04\n",
            "Codename:\tbionic\n"
          ],
          "name": "stdout"
        }
      ]
    },
    {
      "metadata": {
        "id": "jMGwsbSP-npQ",
        "colab_type": "code",
        "outputId": "4d222587-af70-4090-9975-d1ca7eb4ee86",
        "colab": {
          "base_uri": "https://localhost:8080/",
          "height": 85
        }
      },
      "cell_type": "code",
      "source": [
        "!nvcc --version"
      ],
      "execution_count": 0,
      "outputs": [
        {
          "output_type": "stream",
          "text": [
            "nvcc: NVIDIA (R) Cuda compiler driver\n",
            "Copyright (c) 2005-2018 NVIDIA Corporation\n",
            "Built on Tue_Jun_12_23:07:04_CDT_2018\n",
            "Cuda compilation tools, release 9.2, V9.2.148\n"
          ],
          "name": "stdout"
        }
      ]
    },
    {
      "metadata": {
        "id": "KS1A5siRQtRn",
        "colab_type": "code",
        "outputId": "db42c1dc-b713-4084-c67f-6ffad3f4c93f",
        "colab": {
          "base_uri": "https://localhost:8080/",
          "height": 326
        }
      },
      "cell_type": "code",
      "source": [
        "#install pytorch\n",
        "!pip3 install torch torchvision"
      ],
      "execution_count": 0,
      "outputs": [
        {
          "output_type": "stream",
          "text": [
            "Collecting torch\n",
            "\u001b[?25l  Downloading https://files.pythonhosted.org/packages/7e/60/66415660aa46b23b5e1b72bc762e816736ce8d7260213e22365af51e8f9c/torch-1.0.0-cp36-cp36m-manylinux1_x86_64.whl (591.8MB)\n",
            "\u001b[K    100% |████████████████████████████████| 591.8MB 26kB/s \n",
            "tcmalloc: large alloc 1073750016 bytes == 0x61e5c000 @  0x7f382aeac2a4 0x591a07 0x5b5d56 0x502e9a 0x506859 0x502209 0x502f3d 0x506859 0x504c28 0x502540 0x502f3d 0x506859 0x504c28 0x502540 0x502f3d 0x506859 0x504c28 0x502540 0x502f3d 0x507641 0x502209 0x502f3d 0x506859 0x504c28 0x502540 0x502f3d 0x507641 0x504c28 0x502540 0x502f3d 0x507641\n",
            "\u001b[?25hCollecting torchvision\n",
            "\u001b[?25l  Downloading https://files.pythonhosted.org/packages/ca/0d/f00b2885711e08bd71242ebe7b96561e6f6d01fdb4b9dcf4d37e2e13c5e1/torchvision-0.2.1-py2.py3-none-any.whl (54kB)\n",
            "\u001b[K    100% |████████████████████████████████| 61kB 22.0MB/s \n",
            "\u001b[?25hRequirement already satisfied: six in /usr/local/lib/python3.6/dist-packages (from torchvision) (1.11.0)\n",
            "Requirement already satisfied: numpy in /usr/local/lib/python3.6/dist-packages (from torchvision) (1.14.6)\n",
            "Collecting pillow>=4.1.1 (from torchvision)\n",
            "\u001b[?25l  Downloading https://files.pythonhosted.org/packages/92/e3/217dfd0834a51418c602c96b110059c477260c7fee898542b100913947cf/Pillow-5.4.0-cp36-cp36m-manylinux1_x86_64.whl (2.0MB)\n",
            "\u001b[K    100% |████████████████████████████████| 2.0MB 6.1MB/s \n",
            "\u001b[?25hInstalling collected packages: torch, pillow, torchvision\n",
            "  Found existing installation: Pillow 4.0.0\n",
            "    Uninstalling Pillow-4.0.0:\n",
            "      Successfully uninstalled Pillow-4.0.0\n",
            "Successfully installed pillow-5.4.0 torch-1.0.0 torchvision-0.2.1\n"
          ],
          "name": "stdout"
        }
      ]
    },
    {
      "metadata": {
        "id": "ADbX8DVVxTu3",
        "colab_type": "code",
        "outputId": "048886df-10b8-4509-cd4d-0544faa3a9d6",
        "colab": {
          "base_uri": "https://localhost:8080/",
          "height": 190
        }
      },
      "cell_type": "code",
      "source": [
        "#install pillow\n",
        "!pip install pillow==4.1.1\n",
        "%reload_ext autoreload\n",
        "%autoreload"
      ],
      "execution_count": 0,
      "outputs": [
        {
          "output_type": "stream",
          "text": [
            "Collecting pillow==4.1.1\n",
            "\u001b[?25l  Downloading https://files.pythonhosted.org/packages/36/e5/88b3d60924a3f8476fa74ec086f5fbaba56dd6cee0d82845f883b6b6dd18/Pillow-4.1.1-cp36-cp36m-manylinux1_x86_64.whl (5.7MB)\n",
            "\u001b[K    100% |████████████████████████████████| 5.7MB 6.1MB/s \n",
            "\u001b[?25hRequirement already satisfied: olefile in /usr/local/lib/python3.6/dist-packages (from pillow==4.1.1) (0.46)\n",
            "Installing collected packages: pillow\n",
            "  Found existing installation: Pillow 5.4.0\n",
            "    Uninstalling Pillow-5.4.0:\n",
            "      Successfully uninstalled Pillow-5.4.0\n",
            "Successfully installed pillow-4.1.1\n"
          ],
          "name": "stdout"
        }
      ]
    },
    {
      "metadata": {
        "id": "CfrcAONvT_7G",
        "colab_type": "text"
      },
      "cell_type": "markdown",
      "source": [
        "# Developing an AI application\n",
        "\n",
        "Going forward, AI algorithms will be incorporated into more and more everyday applications. For example, you might want to include an image classifier in a smart phone app. To do this, you'd use a deep learning model trained on hundreds of thousands of images as part of the overall application architecture. A large part of software development in the future will be using these types of models as common parts of applications. \n",
        "\n",
        "In this project, you'll train an image classifier to recognize different species of flowers. You can imagine using something like this in a phone app that tells you the name of the flower your camera is looking at. In practice you'd train this classifier, then export it for use in your application. We'll be using [this dataset](http://www.robots.ox.ac.uk/~vgg/data/flowers/102/index.html) of 102 flower categories, you can see a few examples below. \n",
        "\n",
        "<img src='/content/gdrive/My Drive/Career/Projects/PyTorch Nanodegree/assets/Flowers.png' width=500px>\n",
        "\n",
        "The project is broken down into multiple steps:\n",
        "\n",
        "* Load and preprocess the image dataset\n",
        "* Train the image classifier on your dataset\n",
        "* Use the trained classifier to predict image content\n",
        "\n",
        "We'll lead you through each part which you'll implement in Python.\n",
        "\n",
        "When you've completed this project, you'll have an application that can be trained on any set of labeled images. Here your network will be learning about flowers and end up as a command line application. But, what you do with your new skills depends on your imagination and effort in building a dataset. For example, imagine an app where you take a picture of a car, it tells you what the make and model is, then looks up information about it. Go build your own dataset and make something new.\n",
        "\n",
        "First up is importing the packages you'll need. It's good practice to keep all the imports at the beginning of your code. As you work through this notebook and find you need to import a package, make sure to add the import up here."
      ]
    },
    {
      "metadata": {
        "id": "6NfWKKceT_7K",
        "colab_type": "code",
        "outputId": "f7d71fdb-9099-453b-c3f1-e8b3aaa0124f",
        "colab": {
          "base_uri": "https://localhost:8080/",
          "height": 34
        }
      },
      "cell_type": "code",
      "source": [
        "# Imports here\n",
        "import os\n",
        "import time\n",
        "import copy\n",
        "# from tqdm import tqdm\n",
        "from tqdm import tqdm_notebook as tqdm\n",
        "import numpy as np\n",
        "from PIL import Image\n",
        "import matplotlib.pyplot as plt\n",
        "%matplotlib inline\n",
        "\n",
        "import torch\n",
        "print(\"torch version: \", torch.__version__)\n",
        "import torch.nn as nn\n",
        "import torch.optim as optim\n",
        "from torch.optim import lr_scheduler\n",
        "from torchvision import datasets\n",
        "from torchvision import transforms, models"
      ],
      "execution_count": 0,
      "outputs": [
        {
          "output_type": "stream",
          "text": [
            "torch version:  1.0.0\n"
          ],
          "name": "stdout"
        }
      ]
    },
    {
      "metadata": {
        "id": "T9U5j23FT_7W",
        "colab_type": "text"
      },
      "cell_type": "markdown",
      "source": [
        "## 1) Load the data\n",
        "\n",
        "Here you'll use `torchvision` to load the data ([documentation](http://pytorch.org/docs/0.3.0/torchvision/index.html)). You can [download the data here](https://s3.amazonaws.com/content.udacity-data.com/courses/nd188/flower_data.zip). The dataset is split into two parts, training and validation. For the training, you'll want to apply transformations such as random scaling, cropping, and flipping. This will help the network generalize leading to better performance. If you use a pre-trained network, you'll also need to make sure the input data is resized to 224x224 pixels as required by the networks.\n",
        "\n",
        "The validation set is used to measure the model's performance on data it hasn't seen yet. For this you don't want any scaling or rotation transformations, but you'll need to resize then crop the images to the appropriate size.\n",
        "\n",
        "The pre-trained networks available from `torchvision` were trained on the ImageNet dataset where each color channel was normalized separately. For both sets you'll need to normalize the means and standard deviations of the images to what the network expects. For the means, it's `[0.485, 0.456, 0.406]` and for the standard deviations `[0.229, 0.224, 0.225]`, calculated from the ImageNet images.  These values will shift each color channel to be centered at 0 and range from -1 to 1."
      ]
    },
    {
      "metadata": {
        "id": "17QB8tsKT_7Y",
        "colab_type": "code",
        "colab": {}
      },
      "cell_type": "code",
      "source": [
        "data_dir = os.path.join(DIR, 'flower_data')\n",
        "train_dir = os.path.join(data_dir, 'train')\n",
        "valid_dir = os.path.join(data_dir, 'valid')"
      ],
      "execution_count": 0,
      "outputs": []
    },
    {
      "metadata": {
        "id": "x4H37DiOT_7d",
        "colab_type": "code",
        "colab": {}
      },
      "cell_type": "code",
      "source": [
        "# TODO: Define your transforms for the training and validation sets\n",
        "train_transform = transforms.Compose([ transforms.RandomRotation(30), #random rotation [-30°:30°]\n",
        "                                       transforms.Resize(255),\n",
        "                                       transforms.RandomResizedCrop(224),\n",
        "                                       transforms.RandomHorizontalFlip(),\n",
        "                                       transforms.ToTensor(),\n",
        "                                       transforms.Normalize((0.485, 0.456, 0.406), \n",
        "                                                            (0.229, 0.224, 0.225))\n",
        "                                      ])\n",
        "valid_transform = transforms.Compose([ transforms.Resize(255),\n",
        "                                       transforms.RandomResizedCrop(224),\n",
        "                                       transforms.ToTensor(),\n",
        "                                       transforms.Normalize((0.485, 0.456, 0.406), \n",
        "                                                            (0.229, 0.224, 0.225))\n",
        "                                      ])\n",
        "\n",
        "# TODO: Load the datasets with ImageFolder\n",
        "train_dataset = datasets.ImageFolder(train_dir, transform=train_transform)\n",
        "valid_dataset = datasets.ImageFolder(valid_dir, transform=valid_transform)\n",
        "\n",
        "# TODO: Using the image datasets and the trainforms, define the dataloaders\n",
        "train_loader = torch.utils.data.DataLoader(train_dataset, batch_size=32, shuffle=True)\n",
        "valid_loader = torch.utils.data.DataLoader(valid_dataset, batch_size=32, shuffle=True)\n",
        "\n",
        "#combine these data loaders into a dictionary\n",
        "dataloader = {'train': train_loader,\n",
        "              'valid': valid_loader}\n",
        "\n",
        "#get size of each group\n",
        "dataset_sizes = {'train': len(train_dataset),\n",
        "                 'valid': len(valid_dataset)}"
      ],
      "execution_count": 0,
      "outputs": []
    },
    {
      "metadata": {
        "id": "-IMMJcGIT_7i",
        "colab_type": "text"
      },
      "cell_type": "markdown",
      "source": [
        "### Label mapping\n",
        "\n",
        "You'll also need to load in a mapping from category label to category name. You can find this in the file `cat_to_name.json`. It's a JSON object which you can read in with the [json module](https://docs.python.org/2/library/json.html). This will give you a dictionary mapping the integer encoded categories to the actual names of the flowers.\n",
        "\n",
        "```\n",
        "{'1': 'pink primrose',\n",
        " '10': 'globe thistle',\n",
        " '100': 'blanket flower',\n",
        " '101': 'trumpet creeper',\n",
        " '102': 'blackberry lily',\n",
        " '11': 'snapdragon',\n",
        " '12': \"colt's foot\",\n",
        " '13': 'king protea',\n",
        " '14': 'spear thistle',\n",
        " '15': 'yellow iris',\n",
        " '16': 'globe-flower',\n",
        " '17': 'purple coneflower',\n",
        " '18': 'peruvian lily',\n",
        " '19': 'balloon flower',\n",
        " '2': 'hard-leaved pocket orchid',\n",
        " '20': 'giant white arum lily',\n",
        " '21': 'fire lily',\n",
        " '22': 'pincushion flower',\n",
        " '23': 'fritillary',\n",
        " '24': 'red ginger'\n",
        " ...\n",
        "```"
      ]
    },
    {
      "metadata": {
        "id": "TKsqCQcHT_7k",
        "colab_type": "code",
        "colab": {}
      },
      "cell_type": "code",
      "source": [
        "import json\n",
        "\n",
        "with open(os.path.join(DIR,'cat_to_name.json'), 'r') as f:\n",
        "    cat_to_name = json.load(f)\n"
      ],
      "execution_count": 0,
      "outputs": []
    },
    {
      "metadata": {
        "id": "fURoHU44ylQc",
        "colab_type": "code",
        "colab": {}
      },
      "cell_type": "code",
      "source": [
        "def show_tensor_image(image, ax=None, title=None, normalize=True):\n",
        "    \"\"\"Imshow for Tensor.\"\"\"\n",
        "    if ax is None:\n",
        "        fig, ax = plt.subplots()\n",
        "\n",
        "    image = image.numpy().transpose((1, 2, 0))\n",
        "\n",
        "    if normalize:\n",
        "        mean = np.array([0.485, 0.456, 0.406])\n",
        "        std = np.array([0.229, 0.224, 0.225])\n",
        "        image = std * image + mean\n",
        "        image = np.clip(image, 0, 1)\n",
        "\n",
        "    ax.imshow(image)\n",
        "    ax.spines['top'].set_visible(False)\n",
        "    ax.spines['right'].set_visible(False)\n",
        "    ax.spines['left'].set_visible(False)\n",
        "    ax.spines['bottom'].set_visible(False)\n",
        "    ax.tick_params(axis='both', length=0)\n",
        "    ax.set_xticklabels('')\n",
        "    ax.set_yticklabels('')\n",
        "\n",
        "    return ax"
      ],
      "execution_count": 0,
      "outputs": []
    },
    {
      "metadata": {
        "id": "0hN3NQzMtSHI",
        "colab_type": "text"
      },
      "cell_type": "markdown",
      "source": [
        "### Visualize Data"
      ]
    },
    {
      "metadata": {
        "id": "KtjsObZjT_7o",
        "colab_type": "code",
        "outputId": "81167850-76b7-4d89-e840-a06c15be4223",
        "colab": {
          "base_uri": "https://localhost:8080/",
          "height": 167
        }
      },
      "cell_type": "code",
      "source": [
        "data_iter = iter(valid_loader)\n",
        "\n",
        "images, labels = next(data_iter)\n",
        "fig, axes = plt.subplots(figsize=(10,4), ncols=4)\n",
        "for i in range(4):\n",
        "    ax = axes[i]\n",
        "    ax.set_title(cat_to_name[str(int(labels[i]))])\n",
        "    show_tensor_image(images[i], ax=ax, normalize=True)"
      ],
      "execution_count": 0,
      "outputs": [
        {
          "output_type": "display_data",
          "data": {
            "image/png": "[encoded data removed]",
            "text/plain": [
              "<matplotlib.figure.Figure at 0x7f470db65160>"
            ]
          },
          "metadata": {
            "tags": []
          }
        }
      ]
    },
    {
      "metadata": {
        "id": "qQLJtKtqT_7v",
        "colab_type": "text"
      },
      "cell_type": "markdown",
      "source": [
        "## 2) Building and training the classifier\n",
        "\n",
        "Now that the data is ready, it's time to build and train the classifier. As usual, you should use one of the pretrained models from `torchvision.models` to get the image features. Build and train a new feed-forward classifier using those features.\n",
        "\n",
        "We're going to leave this part up to you. If you want to talk through it with someone, chat with your fellow students! You can also ask questions on the forums or join the instructors in office hours.\n",
        "\n",
        "Refer to [the rubric](https://review.udacity.com/#!/rubrics/1663/view) for guidance on successfully completing this section. Things you'll need to do:\n",
        "\n",
        "* Load a [pre-trained network](http://pytorch.org/docs/master/torchvision/models.html) (If you need a starting point, the VGG networks work great and are straightforward to use)\n",
        "* Define a new, untrained feed-forward network as a classifier, using ReLU activations and dropout\n",
        "* Train the classifier layers using backpropagation using the pre-trained network to get the features\n",
        "* Track the loss and accuracy on the validation set to determine the best hyperparameters\n",
        "\n",
        "We've left a cell open for you below, but use as many as you need. Our advice is to break the problem up into smaller parts you can run separately. Check that each part is doing what you expect, then move on to the next. You'll likely find that as you work through each part, you'll need to go back and modify your previous code. This is totally normal!\n",
        "\n",
        "When training make sure you're updating only the weights of the feed-forward network. You should be able to get the validation accuracy above 70% if you build everything right. Make sure to try different hyperparameters (learning rate, units in the classifier, epochs, etc) to find the best model. Save those hyperparameters to use as default values in the next part of the project."
      ]
    },
    {
      "metadata": {
        "id": "eWttu5jsT_7w",
        "colab_type": "text"
      },
      "cell_type": "markdown",
      "source": [
        "### Load VGG19\n",
        "\n",
        "Actually, VGG19 or any other pre-trained model in pytorch has two parts in it\n",
        "- **Features**: which means using VGG19 like a feature-extractor like the Style Transfer part\n",
        "```\n",
        "Sequential(\n",
        "  (0): Conv2d(3, 64, kernel_size=(3, 3), stride=(1, 1), padding=(1, 1))\n",
        "  (1): ReLU(inplace)\n",
        "  (2): Conv2d(64, 64, kernel_size=(3, 3), stride=(1, 1), padding=(1, 1))\n",
        "  (3): ReLU(inplace)\n",
        "  (4): MaxPool2d(kernel_size=2, stride=2, padding=0, dilation=1, ceil_mode=False)\n",
        "  (5): Conv2d(64, 128, kernel_size=(3, 3), stride=(1, 1), padding=(1, 1))\n",
        "  (6): ReLU(inplace)\n",
        "  (7): Conv2d(128, 128, kernel_size=(3, 3), stride=(1, 1), padding=(1, 1))\n",
        "  (8): ReLU(inplace)\n",
        "  (9): MaxPool2d(kernel_size=2, stride=2, padding=0, dilation=1, ceil_mode=False)\n",
        "  (10): Conv2d(128, 256, kernel_size=(3, 3), stride=(1, 1), padding=(1, 1))\n",
        "  (11): ReLU(inplace)\n",
        "  (12): Conv2d(256, 256, kernel_size=(3, 3), stride=(1, 1), padding=(1, 1))\n",
        "  (13): ReLU(inplace)\n",
        "  (14): Conv2d(256, 256, kernel_size=(3, 3), stride=(1, 1), padding=(1, 1))\n",
        "  (15): ReLU(inplace)\n",
        "  (16): Conv2d(256, 256, kernel_size=(3, 3), stride=(1, 1), padding=(1, 1))\n",
        "  (17): ReLU(inplace)\n",
        "  (18): MaxPool2d(kernel_size=2, stride=2, padding=0, dilation=1, ceil_mode=False)\n",
        "  (19): Conv2d(256, 512, kernel_size=(3, 3), stride=(1, 1), padding=(1, 1))\n",
        "  (20): ReLU(inplace)\n",
        "  (21): Conv2d(512, 512, kernel_size=(3, 3), stride=(1, 1), padding=(1, 1))\n",
        "  (22): ReLU(inplace)\n",
        "  (23): Conv2d(512, 512, kernel_size=(3, 3), stride=(1, 1), padding=(1, 1))\n",
        "  (24): ReLU(inplace)\n",
        "  (25): Conv2d(512, 512, kernel_size=(3, 3), stride=(1, 1), padding=(1, 1))\n",
        "  (26): ReLU(inplace)\n",
        "  (27): MaxPool2d(kernel_size=2, stride=2, padding=0, dilation=1, ceil_mode=False)\n",
        "  (28): Conv2d(512, 512, kernel_size=(3, 3), stride=(1, 1), padding=(1, 1))\n",
        "  (29): ReLU(inplace)\n",
        "  (30): Conv2d(512, 512, kernel_size=(3, 3), stride=(1, 1), padding=(1, 1))\n",
        "  (31): ReLU(inplace)\n",
        "  (32): Conv2d(512, 512, kernel_size=(3, 3), stride=(1, 1), padding=(1, 1))\n",
        "  (33): ReLU(inplace)\n",
        "  (34): Conv2d(512, 512, kernel_size=(3, 3), stride=(1, 1), padding=(1, 1))\n",
        "  (35): ReLU(inplace)\n",
        "  (36): MaxPool2d(kernel_size=2, stride=2, padding=0, dilation=1, ceil_mode=False)\n",
        ")\n",
        "```\n",
        "- **Classifier**: which means using VGG19 like a classifier which is what we are going to use here\n",
        "\n",
        "```\n",
        "Sequential(\n",
        "  (0): Linear(in_features=25088, out_features=4096, bias=True)\n",
        "  (1): ReLU(inplace)\n",
        "  (2): Dropout(p=0.5)\n",
        "  (3): Linear(in_features=4096, out_features=4096, bias=True)\n",
        "  (4): ReLU(inplace)\n",
        "  (5): Dropout(p=0.5)\n",
        "  (6): Linear(in_features=4096, out_features=1000, bias=True)\n",
        ")\n",
        "```\n",
        "As we can see, the last layer has 1000 as out features by default. And that is not going to work with us. Let's modify this to be just 102 which is the number of flower types we have in our dataset."
      ]
    },
    {
      "metadata": {
        "id": "x4GqW5t_T_7y",
        "colab_type": "code",
        "outputId": "5c0cbb5a-4765-4e3f-c86f-6fa05199c112",
        "colab": {
          "base_uri": "https://localhost:8080/",
          "height": 51
        }
      },
      "cell_type": "code",
      "source": [
        "# get the \"features\" portion of VGG19 (we will not need the \"classifier\" portion)\n",
        "vgg = models.vgg19(pretrained=True)"
      ],
      "execution_count": 0,
      "outputs": [
        {
          "output_type": "stream",
          "text": [
            "Downloading: \"https://download.pytorch.org/models/vgg19-dcbb9e9d.pth\" to /root/.torch/models/vgg19-dcbb9e9d.pth\n",
            "100%|██████████| 574673361/574673361 [00:29<00:00, 19777016.65it/s]\n"
          ],
          "name": "stderr"
        }
      ]
    },
    {
      "metadata": {
        "id": "3fkEfOzoOc1B",
        "colab_type": "code",
        "colab": {}
      },
      "cell_type": "code",
      "source": [
        "#modify last layer\n",
        "vgg.classifier[-1] = nn.Linear(in_features=4096, out_features=len(cat_to_name.keys())) \n",
        "\n",
        "# move the model to GPU, if available\n",
        "device = torch.device(\"cuda\" if torch.cuda.is_available() else \"cpu\")\n",
        "\n",
        "# move tensors to GPU if CUDA is available\n",
        "vgg.to(device)\n",
        "\n",
        "#get the \n",
        "vgg.class_to_idx = train_dataset.class_to_idx"
      ],
      "execution_count": 0,
      "outputs": []
    },
    {
      "metadata": {
        "id": "h-qUttTBT_74",
        "colab_type": "text"
      },
      "cell_type": "markdown",
      "source": [
        "### Define criterion, optimizer and scheduler\n",
        "\n",
        "Here, we are going to define our criterion, optimizer and our scheduler"
      ]
    },
    {
      "metadata": {
        "id": "png3_yypT_76",
        "colab_type": "code",
        "colab": {}
      },
      "cell_type": "code",
      "source": [
        "# specify loss function (categorical cross-entropy)\n",
        "criterion = nn.CrossEntropyLoss()\n",
        "\n",
        "# specify optimizer\n",
        "optimizer = optim.SGD(vgg.parameters(), lr=0.001, momentum=0.9)\n",
        "\n",
        "# Decay LR by a factor of 0.1 every 5 epochs\n",
        "exp_lr_scheduler = lr_scheduler.StepLR(optimizer, step_size=5, gamma=0.1)"
      ],
      "execution_count": 0,
      "outputs": []
    },
    {
      "metadata": {
        "id": "XSh5eQiOT_7-",
        "colab_type": "text"
      },
      "cell_type": "markdown",
      "source": [
        "### Train our model\n",
        "\n",
        "Now, I think VGG19 is ready for training... This [link](https://pytorch.org/tutorials/beginner/transfer_learning_tutorial.html) was pretty helpful regarding developing this part!!\n"
      ]
    },
    {
      "metadata": {
        "id": "JkdEFRFIT_8B",
        "colab_type": "code",
        "colab": {}
      },
      "cell_type": "code",
      "source": [
        "def train_vgg(model, criterion, optimizer, scheduler, num_epochs=25):\n",
        "\n",
        "    best_model_wts = copy.deepcopy(model.state_dict())\n",
        "    best_acc = 0.0\n",
        "\n",
        "    for epoch in range(num_epochs):\n",
        "\n",
        "        # Each epoch has a training and validation phase\n",
        "        for phase in ['train', 'valid']:\n",
        "            if phase == 'train':\n",
        "                model.train()  # Set model to training mode\n",
        "                 #scheduler.step()\n",
        "            else:\n",
        "                model.eval()   # Set model to evaluate mode\n",
        "\n",
        "            running_loss = 0.0\n",
        "            running_corrects = 0\n",
        "\n",
        "            # Iterate over data.\n",
        "            for inputs, labels in tqdm(dataloader[phase], desc=phase.upper()+\" Epoch {}/{}\".format(epoch+1, num_epochs)):\n",
        "                #move data to cuda\n",
        "                inputs = inputs.to(device)\n",
        "                labels = labels.to(device)\n",
        "\n",
        "                # zero the parameter gradients\n",
        "                optimizer.zero_grad()\n",
        "\n",
        "                # forward\n",
        "                # track history if only in train\n",
        "                with torch.set_grad_enabled(phase == 'train'):\n",
        "                    outputs = model(inputs)\n",
        "                    _, preds = torch.max(outputs, 1)\n",
        "                    loss = criterion(outputs, labels)\n",
        "\n",
        "                    # backward + optimize only if in training phase\n",
        "                    if phase == 'train':\n",
        "                        loss.backward()\n",
        "                        optimizer.step()\n",
        "\n",
        "                # statistics\n",
        "                running_loss += loss.item() * inputs.size(0)\n",
        "                running_corrects += torch.sum(preds == labels.data)\n",
        "\n",
        "            epoch_loss = running_loss/dataset_sizes[phase]\n",
        "            epoch_acc = running_corrects.double()/dataset_sizes[phase]\n",
        "\n",
        "            # deep copy the model\n",
        "            if phase == 'valid' :\n",
        "                if epoch_acc > best_acc:\n",
        "                    best_acc = epoch_acc\n",
        "                    #get only the weighs\n",
        "                    best_model_wts = copy.deepcopy(model.state_dict())\n",
        "                    #save the model\n",
        "                    torch.save({'epoch': epoch,\n",
        "                                'model_state_dict': model.state_dict(),\n",
        "                                'optimizer_state_dict': optimizer.state_dict(),\n",
        "                                'loss': loss,\n",
        "                                'class_to_idx': model.class_to_idx\n",
        "                                }, os.path.join(DIR, 'checkpoint.pth'))\n",
        "                    tqdm.write(\"Model Saved into checkpoint.pth\")\n",
        "                tqdm.write('{} Loss: {:.4f} Acc: {:.4f} Best Accuracy: {}'\\\n",
        "                           .format(phase, epoch_loss, epoch_acc, best_acc))\n",
        "                tqdm.write(\"\\n\")\n",
        "                \n",
        "\n",
        "    time_elapsed = time.time() - since\n",
        "    tqdm.write('Training complete !!')\n",
        "    tqdm.write('Best val Acc: {:4f}'.format(best_acc))\n",
        "\n",
        "    # load best model weights\n",
        "    model.load_state_dict(best_model_wts)\n",
        "    return model"
      ],
      "execution_count": 0,
      "outputs": []
    },
    {
      "metadata": {
        "id": "MAIZ9LhTT_8H",
        "colab_type": "code",
        "outputId": "2800f22c-79f8-4d9c-cefb-3efb3cc7827d",
        "colab": {
          "base_uri": "https://localhost:8080/",
          "height": 1737
        }
      },
      "cell_type": "code",
      "source": [
        "vgg = train_vgg(vgg, criterion, optimizer, lr_scheduler, num_epochs=20)"
      ],
      "execution_count": 0,
      "outputs": [
        {
          "output_type": "stream",
          "text": [
            "TRAIN Epoch 1/20: 100%|██████████| 205/205 [30:14<00:00,  9.31s/it]\n",
            "VALID Epoch 1/20: 100%|██████████| 26/26 [03:08<00:00,  6.25s/it]\n",
            "TRAIN Epoch 2/20:   0%|          | 0/205 [00:00<?, ?it/s]"
          ],
          "name": "stderr"
        },
        {
          "output_type": "stream",
          "text": [
            "Model Saved into checkpoint.pth\n",
            "valid Loss: 1.1033 Acc: 0.7115 Best Accuracy: 0.7114914425427873\n",
            "\n",
            "\n"
          ],
          "name": "stdout"
        },
        {
          "output_type": "stream",
          "text": [
            "TRAIN Epoch 2/20: 100%|██████████| 205/205 [08:01<00:00,  2.25s/it]\n",
            "VALID Epoch 2/20: 100%|██████████| 26/26 [00:27<00:00,  1.02it/s]\n",
            "TRAIN Epoch 3/20:   0%|          | 0/205 [00:00<?, ?it/s]"
          ],
          "name": "stderr"
        },
        {
          "output_type": "stream",
          "text": [
            "Model Saved into checkpoint.pth\n",
            "valid Loss: 0.8090 Acc: 0.7726 Best Accuracy: 0.7726161369193154\n",
            "\n",
            "\n"
          ],
          "name": "stdout"
        },
        {
          "output_type": "stream",
          "text": [
            "TRAIN Epoch 3/20: 100%|██████████| 205/205 [08:01<00:00,  2.25s/it]\n",
            "VALID Epoch 3/20: 100%|██████████| 26/26 [00:27<00:00,  1.02it/s]\n",
            "TRAIN Epoch 4/20:   0%|          | 0/205 [00:00<?, ?it/s]"
          ],
          "name": "stderr"
        },
        {
          "output_type": "stream",
          "text": [
            "Model Saved into checkpoint.pth\n",
            "valid Loss: 0.5691 Acc: 0.8533 Best Accuracy: 0.8533007334963325\n",
            "\n",
            "\n"
          ],
          "name": "stdout"
        },
        {
          "output_type": "stream",
          "text": [
            "TRAIN Epoch 4/20: 100%|██████████| 205/205 [08:01<00:00,  2.25s/it]\n",
            "VALID Epoch 4/20: 100%|██████████| 26/26 [00:27<00:00,  1.02it/s]\n",
            "TRAIN Epoch 5/20:   0%|          | 0/205 [00:00<?, ?it/s]"
          ],
          "name": "stderr"
        },
        {
          "output_type": "stream",
          "text": [
            "valid Loss: 0.5710 Acc: 0.8435 Best Accuracy: 0.8533007334963325\n",
            "\n",
            "\n"
          ],
          "name": "stdout"
        },
        {
          "output_type": "stream",
          "text": [
            "TRAIN Epoch 5/20: 100%|██████████| 205/205 [08:01<00:00,  2.25s/it]\n",
            "VALID Epoch 5/20: 100%|██████████| 26/26 [00:27<00:00,  1.01it/s]\n",
            "TRAIN Epoch 6/20:   0%|          | 0/205 [00:00<?, ?it/s]"
          ],
          "name": "stderr"
        },
        {
          "output_type": "stream",
          "text": [
            "Model Saved into checkpoint.pth\n",
            "valid Loss: 0.4723 Acc: 0.8839 Best Accuracy: 0.8838630806845966\n",
            "\n",
            "\n"
          ],
          "name": "stdout"
        },
        {
          "output_type": "stream",
          "text": [
            "TRAIN Epoch 6/20: 100%|██████████| 205/205 [08:02<00:00,  2.25s/it]\n",
            "VALID Epoch 6/20: 100%|██████████| 26/26 [00:27<00:00,  1.01it/s]\n",
            "TRAIN Epoch 7/20:   0%|          | 0/205 [00:00<?, ?it/s]"
          ],
          "name": "stderr"
        },
        {
          "output_type": "stream",
          "text": [
            "valid Loss: 0.4810 Acc: 0.8826 Best Accuracy: 0.8838630806845966\n",
            "\n",
            "\n"
          ],
          "name": "stdout"
        },
        {
          "output_type": "stream",
          "text": [
            "TRAIN Epoch 7/20: 100%|██████████| 205/205 [08:03<00:00,  2.26s/it]\n",
            "VALID Epoch 7/20: 100%|██████████| 26/26 [00:28<00:00,  1.00it/s]\n",
            "TRAIN Epoch 8/20:   0%|          | 0/205 [00:00<?, ?it/s]"
          ],
          "name": "stderr"
        },
        {
          "output_type": "stream",
          "text": [
            "Model Saved into checkpoint.pth\n",
            "valid Loss: 0.4653 Acc: 0.8924 Best Accuracy: 0.8924205378973105\n",
            "\n",
            "\n"
          ],
          "name": "stdout"
        },
        {
          "output_type": "stream",
          "text": [
            "TRAIN Epoch 8/20: 100%|██████████| 205/205 [08:06<00:00,  2.27s/it]\n",
            "VALID Epoch 8/20: 100%|██████████| 26/26 [00:27<00:00,  1.01it/s]\n",
            "TRAIN Epoch 9/20:   0%|          | 0/205 [00:00<?, ?it/s]"
          ],
          "name": "stderr"
        },
        {
          "output_type": "stream",
          "text": [
            "Model Saved into checkpoint.pth\n",
            "valid Loss: 0.4008 Acc: 0.9010 Best Accuracy: 0.9009779951100244\n",
            "\n",
            "\n"
          ],
          "name": "stdout"
        },
        {
          "output_type": "stream",
          "text": [
            "TRAIN Epoch 9/20: 100%|██████████| 205/205 [08:06<00:00,  2.27s/it]\n",
            "VALID Epoch 9/20: 100%|██████████| 26/26 [00:28<00:00,  1.00it/s]\n",
            "TRAIN Epoch 10/20:   0%|          | 0/205 [00:00<?, ?it/s]"
          ],
          "name": "stderr"
        },
        {
          "output_type": "stream",
          "text": [
            "valid Loss: 0.4498 Acc: 0.8912 Best Accuracy: 0.9009779951100244\n",
            "\n",
            "\n"
          ],
          "name": "stdout"
        },
        {
          "output_type": "stream",
          "text": [
            "TRAIN Epoch 10/20: 100%|██████████| 205/205 [08:05<00:00,  2.27s/it]\n",
            "VALID Epoch 10/20: 100%|██████████| 26/26 [00:28<00:00,  1.01it/s]\n",
            "TRAIN Epoch 11/20:   0%|          | 0/205 [00:00<?, ?it/s]"
          ],
          "name": "stderr"
        },
        {
          "output_type": "stream",
          "text": [
            "Model Saved into checkpoint.pth\n",
            "valid Loss: 0.4440 Acc: 0.9022 Best Accuracy: 0.902200488997555\n",
            "\n",
            "\n"
          ],
          "name": "stdout"
        },
        {
          "output_type": "stream",
          "text": [
            "TRAIN Epoch 11/20: 100%|██████████| 205/205 [08:06<00:00,  2.27s/it]\n",
            "VALID Epoch 11/20: 100%|██████████| 26/26 [00:27<00:00,  1.01it/s]\n",
            "TRAIN Epoch 12/20:   0%|          | 0/205 [00:00<?, ?it/s]"
          ],
          "name": "stderr"
        },
        {
          "output_type": "stream",
          "text": [
            "Model Saved into checkpoint.pth\n",
            "valid Loss: 0.3311 Acc: 0.9108 Best Accuracy: 0.910757946210269\n",
            "\n",
            "\n"
          ],
          "name": "stdout"
        },
        {
          "output_type": "stream",
          "text": [
            "TRAIN Epoch 12/20: 100%|██████████| 205/205 [08:07<00:00,  2.28s/it]\n",
            "VALID Epoch 12/20: 100%|██████████| 26/26 [00:28<00:00,  1.00it/s]\n",
            "TRAIN Epoch 13/20:   0%|          | 0/205 [00:00<?, ?it/s]"
          ],
          "name": "stderr"
        },
        {
          "output_type": "stream",
          "text": [
            "valid Loss: 0.3924 Acc: 0.9022 Best Accuracy: 0.910757946210269\n",
            "\n",
            "\n"
          ],
          "name": "stdout"
        },
        {
          "output_type": "stream",
          "text": [
            "TRAIN Epoch 13/20: 100%|██████████| 205/205 [08:05<00:00,  2.26s/it]\n",
            "VALID Epoch 13/20: 100%|██████████| 26/26 [00:27<00:00,  1.01it/s]\n",
            "TRAIN Epoch 14/20:   0%|          | 0/205 [00:00<?, ?it/s]"
          ],
          "name": "stderr"
        },
        {
          "output_type": "stream",
          "text": [
            "valid Loss: 0.4242 Acc: 0.8998 Best Accuracy: 0.910757946210269\n",
            "\n",
            "\n"
          ],
          "name": "stdout"
        },
        {
          "output_type": "stream",
          "text": [
            "TRAIN Epoch 14/20: 100%|██████████| 205/205 [08:04<00:00,  2.27s/it]\n",
            "VALID Epoch 14/20: 100%|██████████| 26/26 [00:27<00:00,  1.01it/s]\n",
            "TRAIN Epoch 15/20:   0%|          | 0/205 [00:00<?, ?it/s]"
          ],
          "name": "stderr"
        },
        {
          "output_type": "stream",
          "text": [
            "valid Loss: 0.4159 Acc: 0.8888 Best Accuracy: 0.910757946210269\n",
            "\n",
            "\n"
          ],
          "name": "stdout"
        },
        {
          "output_type": "stream",
          "text": [
            "TRAIN Epoch 15/20: 100%|██████████| 205/205 [08:07<00:00,  2.50s/it]\n",
            "VALID Epoch 15/20: 100%|██████████| 26/26 [00:28<00:00,  1.00it/s]\n",
            "TRAIN Epoch 16/20:   0%|          | 0/205 [00:00<?, ?it/s]"
          ],
          "name": "stderr"
        },
        {
          "output_type": "stream",
          "text": [
            "valid Loss: 0.4040 Acc: 0.9071 Best Accuracy: 0.910757946210269\n",
            "\n",
            "\n"
          ],
          "name": "stdout"
        },
        {
          "output_type": "stream",
          "text": [
            "TRAIN Epoch 16/20: 100%|██████████| 205/205 [08:06<00:00,  2.27s/it]\n",
            "VALID Epoch 16/20: 100%|██████████| 26/26 [00:27<00:00,  1.01it/s]\n",
            "TRAIN Epoch 17/20:   0%|          | 0/205 [00:00<?, ?it/s]"
          ],
          "name": "stderr"
        },
        {
          "output_type": "stream",
          "text": [
            "Model Saved into checkpoint.pth\n",
            "valid Loss: 0.3399 Acc: 0.9279 Best Accuracy: 0.9278728606356969\n",
            "\n",
            "\n"
          ],
          "name": "stdout"
        },
        {
          "output_type": "stream",
          "text": [
            "TRAIN Epoch 17/20: 100%|██████████| 205/205 [08:06<00:00,  2.28s/it]\n",
            "VALID Epoch 17/20: 100%|██████████| 26/26 [00:27<00:00,  1.01it/s]\n",
            "TRAIN Epoch 18/20:   0%|          | 0/205 [00:00<?, ?it/s]"
          ],
          "name": "stderr"
        },
        {
          "output_type": "stream",
          "text": [
            "valid Loss: 0.3705 Acc: 0.9059 Best Accuracy: 0.9278728606356969\n",
            "\n",
            "\n"
          ],
          "name": "stdout"
        },
        {
          "output_type": "stream",
          "text": [
            "TRAIN Epoch 18/20: 100%|██████████| 205/205 [08:05<00:00,  2.27s/it]\n",
            "VALID Epoch 18/20: 100%|██████████| 26/26 [00:27<00:00,  1.00it/s]\n",
            "TRAIN Epoch 19/20:   0%|          | 0/205 [00:00<?, ?it/s]"
          ],
          "name": "stderr"
        },
        {
          "output_type": "stream",
          "text": [
            "valid Loss: 0.3302 Acc: 0.9254 Best Accuracy: 0.9278728606356969\n",
            "\n",
            "\n"
          ],
          "name": "stdout"
        },
        {
          "output_type": "stream",
          "text": [
            "TRAIN Epoch 19/20:  18%|█▊        | 36/205 [01:25<06:39,  2.36s/it]"
          ],
          "name": "stderr"
        }
      ]
    },
    {
      "metadata": {
        "id": "PwWZmVylT_8V",
        "colab_type": "text"
      },
      "cell_type": "markdown",
      "source": [
        "### Loading the checkpoint\n",
        "\n",
        "At this point it's good to write a function that can load a checkpoint and rebuild the model. That way you can come back to this project and keep working on it without having to retrain the network."
      ]
    },
    {
      "metadata": {
        "id": "YTDQiYCYT_8W",
        "colab_type": "code",
        "colab": {}
      },
      "cell_type": "code",
      "source": [
        "# TODO: Write a function that loads a checkpoint and rebuilds the model\n",
        "\n",
        "def load_trained_vgg(PATH, only_weights = False):\n",
        "    if os.path.exists(PATH):\n",
        "        checkpoint = torch.load(PATH)\n",
        "        #create model:\n",
        "        vgg_model = models.vgg19(pretrained=False)\n",
        "        vgg_model.classifier[-1] = nn.Linear(in_features=4096, out_features=102) \n",
        "        vgg_model.to(torch.device(\"cuda\"))\n",
        "        if only_weights:\n",
        "            vgg_model.load_state_dict(checkpoint)\n",
        "        else:\n",
        "            SGD_optimizer = optim.SGD(vgg.parameters(), lr=0.001, momentum=0.9)\n",
        "            vgg_model.load_state_dict(checkpoint['model_state_dict'])\n",
        "            vgg_model.class_to_idx = checkpoin['']\n",
        "            SGD_optimizer.load_state_dict(checkpoint['optimizer_state_dict'])\n",
        "            epoch = checkpoint['epoch']\n",
        "            loss = checkpoint['loss']\n",
        "            \n",
        "        return vgg_model"
      ],
      "execution_count": 0,
      "outputs": []
    },
    {
      "metadata": {
        "id": "-StlFzqCT_8d",
        "colab_type": "code",
        "colab": {}
      },
      "cell_type": "code",
      "source": [
        "loaded_vgg = load_trained_vgg(os.path.join(DIR, 'checkpoint(92%).pth'))"
      ],
      "execution_count": 0,
      "outputs": []
    },
    {
      "metadata": {
        "id": "0qzdUzLsiG8-",
        "colab_type": "code",
        "colab": {}
      },
      "cell_type": "code",
      "source": [
        "loaded_vgg.to(torch.device('cpu'))\n",
        "#save only the weights CPU version\n",
        "torch.save(loaded_vgg.to(torch.device(\"cpu\")).state_dict(), os.path.join(DIR, 'vgg19_weights.pth'))"
      ],
      "execution_count": 0,
      "outputs": []
    },
    {
      "metadata": {
        "id": "13mV1AW8T_8i",
        "colab_type": "text"
      },
      "cell_type": "markdown",
      "source": [
        "## 3) Try our Model\n",
        "\n",
        "Now you'll write a function to use a trained network for inference. That is, you'll pass an image into the network and predict the class of the flower in the image. Write a function called `predict` that takes an image and a model, then returns the top $K$ most likely classes along with the probabilities. It should look like \n",
        "\n",
        "```python\n",
        "probs, classes = predict(image_path, model)\n",
        "print(probs)\n",
        "print(classes)\n",
        "> [ 0.01558163  0.01541934  0.01452626  0.01443549  0.01407339]\n",
        "> ['70', '3', '45', '62', '55']\n",
        "```\n",
        "\n",
        "First you'll need to handle processing the input image such that it can be used in your network. \n",
        "\n",
        "### Image Preprocessing\n",
        "\n",
        "You'll want to use `PIL` to load the image ([documentation](https://pillow.readthedocs.io/en/latest/reference/Image.html)). It's best to write a function that preprocesses the image so it can be used as input for the model. This function should process the images in the same manner used for training. \n",
        "\n",
        "First, resize the images where the shortest side is 256 pixels, keeping the aspect ratio. This can be done with the [`thumbnail`](http://pillow.readthedocs.io/en/3.1.x/reference/Image.html#PIL.Image.Image.thumbnail) or [`resize`](http://pillow.readthedocs.io/en/3.1.x/reference/Image.html#PIL.Image.Image.thumbnail) methods. Then you'll need to crop out the center 224x224 portion of the image.\n",
        "\n",
        "Color channels of images are typically encoded as integers 0-255, but the model expected floats 0-1. You'll need to convert the values. It's easiest with a Numpy array, which you can get from a PIL image like so `np_image = np.array(pil_image)`.\n",
        "\n",
        "As before, the network expects the images to be normalized in a specific way. For the means, it's `[0.485, 0.456, 0.406]` and for the standard deviations `[0.229, 0.224, 0.225]`. You'll want to subtract the means from each color channel, then divide by the standard deviation. \n",
        "\n",
        "And finally, PyTorch expects the color channel to be the first dimension but it's the third dimension in the PIL image and Numpy array. You can reorder dimensions using [`ndarray.transpose`](https://docs.scipy.org/doc/numpy-1.13.0/reference/generated/numpy.ndarray.transpose.html). The color channel needs to be first and retain the order of the other two dimensions."
      ]
    },
    {
      "metadata": {
        "id": "yvz3OEW2T_8k",
        "colab_type": "code",
        "colab": {}
      },
      "cell_type": "code",
      "source": [
        "def process_image(image):\n",
        "    ''' Scales, crops, and normalizes a PIL image for a PyTorch model,\n",
        "        returns an Numpy array\n",
        "    '''\n",
        "    \n",
        "    \n",
        "    # TODO: Process a PIL image for use in a PyTorch model\n",
        "    image_transform = transforms.Compose([ transforms.Resize((224, 224)),\n",
        "                                           transforms.ToTensor(),\n",
        "                                           transforms.Normalize((0.485, 0.456, 0.406), \n",
        "                                                                (0.229, 0.224, 0.225))\n",
        "                                          ])\n",
        "    img = image_transform(image)\n",
        "    # PyTorch pretrained models expect the Tensor dims to be (num input imgs, num color channels, height, width).\n",
        "    img = img.unsqueeze(0)  # Insert the new axis at index 0 i.e. in front of the other axes/dims.\n",
        "    return torch.autograd.Variable(img).cuda() #return image as pytorch tensor\n",
        "    "
      ],
      "execution_count": 0,
      "outputs": []
    },
    {
      "metadata": {
        "id": "Qlq-J9NmT_8u",
        "colab_type": "text"
      },
      "cell_type": "markdown",
      "source": [
        "To check your work, the function below converts a PyTorch tensor and displays it in the notebook. If your `process_image` function works, running the output through this function should return the original image (except for the cropped out portions)."
      ]
    },
    {
      "metadata": {
        "id": "N6F-EBj_T_8w",
        "colab_type": "code",
        "colab": {}
      },
      "cell_type": "code",
      "source": [
        "def show_tensor_image2(image, ax=None, title=None):\n",
        "    \"\"\"Imshow for Tensor.\"\"\"\n",
        "    if ax is None:\n",
        "        fig, ax = plt.subplots()\n",
        "    \n",
        "    # PyTorch tensors assume the color channel is the first dimension\n",
        "    # but matplotlib assumes is the third dimension\n",
        "    if image.is_cuda:\n",
        "        image = image.cpu()\n",
        "    if image.shape[0] == 1:\n",
        "        image = image[0]\n",
        "    image = image.numpy()\n",
        "    image = image.transpose((1, 2, 0))\n",
        "    \n",
        "    # Undo preprocessing\n",
        "    mean = np.array([0.485, 0.456, 0.406])\n",
        "    std = np.array([0.229, 0.224, 0.225])\n",
        "    image = std * image + mean\n",
        "    \n",
        "    # Image needs to be clipped between 0 and 1 or it looks like noise when displayed\n",
        "    image = np.clip(image, 0, 1)\n",
        "    \n",
        "    ax.imshow(image)"
      ],
      "execution_count": 0,
      "outputs": []
    },
    {
      "metadata": {
        "id": "ftILu8AQn59p",
        "colab_type": "code",
        "outputId": "bde50c76-fa23-404f-d071-fc1d3358b651",
        "colab": {
          "base_uri": "https://localhost:8080/",
          "height": 269
        }
      },
      "cell_type": "code",
      "source": [
        "from PIL import Image\n",
        "# from matplotlib.pyplot import imshow\n",
        "\n",
        "#pillow image\n",
        "pil_img = Image.open(os.path.join(DIR, \"red_rose.jpg\"))\n",
        "\n",
        "#tensor image\n",
        "tensor_img = process_image(pil_img)\n",
        "\n",
        "#show that tensor image\n",
        "show_tensor_image2(tensor_img)"
      ],
      "execution_count": 0,
      "outputs": [
        {
          "output_type": "display_data",
          "data": {
            "image/png": "[encoded data removed]",
            "text/plain": [
              "<matplotlib.figure.Figure at 0x7f49ecaac0b8>"
            ]
          },
          "metadata": {
            "tags": []
          }
        }
      ]
    },
    {
      "metadata": {
        "id": "PolzH2uc6WJg",
        "colab_type": "code",
        "outputId": "1d6ab823-1ba1-4ee2-c35e-60aff7b162c0",
        "colab": {
          "base_uri": "https://localhost:8080/",
          "height": 34
        }
      },
      "cell_type": "code",
      "source": [
        "#make sure the tensor is as expected\n",
        "tensor_img.shape"
      ],
      "execution_count": 0,
      "outputs": [
        {
          "output_type": "execute_result",
          "data": {
            "text/plain": [
              "torch.Size([1, 3, 224, 224])"
            ]
          },
          "metadata": {
            "tags": []
          },
          "execution_count": 88
        }
      ]
    },
    {
      "metadata": {
        "id": "D_qBsd56T_89",
        "colab_type": "text"
      },
      "cell_type": "markdown",
      "source": [
        "### Class Prediction\n",
        "\n",
        "Once you can get images in the correct format, it's time to write a function for making predictions with your model. A common practice is to predict the top 5 or so (usually called top-$K$) most probable classes. You'll want to calculate the class probabilities then find the $K$ largest values.\n",
        "\n",
        "To get the top $K$ largest values in a tensor use [`x.topk(k)`](http://pytorch.org/docs/master/torch.html#torch.topk). This method returns both the highest `k` probabilities and the indices of those probabilities corresponding to the classes. You need to convert from these indices to the actual class labels using `class_to_idx` which hopefully you added to the model or from an `ImageFolder` you used to load the data. Make sure to invert the dictionary so you get a mapping from index to class as well.\n",
        "\n",
        "Again, this method should take a path to an image and a model checkpoint, then return the probabilities and classes.\n",
        "\n",
        "```python\n",
        "probs, classes = predict(image_path, model)\n",
        "print(probs)\n",
        "print(classes)\n",
        "> [ 0.01558163  0.01541934  0.01452626  0.01443549  0.01407339]\n",
        "> ['70', '3', '45', '62', '55']\n",
        "```"
      ]
    },
    {
      "metadata": {
        "id": "dH2NTZNKt9hU",
        "colab_type": "code",
        "colab": {}
      },
      "cell_type": "code",
      "source": [
        "prediction = loaded_vgg(tensor_img)  # Returns a Tensor of shape (batch, num class labels)\n",
        "# prediction = prediction.data.numpy().argmax()  # Our prediction will be the index of the class label with the largest value.\n",
        "# print(prediction)  \n",
        "# print(labels[prediction])  # Converts the index to a string using our labels dict"
      ],
      "execution_count": 0,
      "outputs": []
    },
    {
      "metadata": {
        "id": "dBJdKFet72gM",
        "colab_type": "code",
        "outputId": "7c077a15-94ed-49c7-c408-61caa644b644",
        "colab": {
          "base_uri": "https://localhost:8080/",
          "height": 51
        }
      },
      "cell_type": "code",
      "source": [
        "# torch.exp(prediction.topk(5))\n",
        "prediction.topk(5)[0]"
      ],
      "execution_count": 0,
      "outputs": [
        {
          "output_type": "execute_result",
          "data": {
            "text/plain": [
              "tensor([[9.9483, 9.5216, 7.6959, 6.8696, 5.5622]], device='cuda:0',\n",
              "       grad_fn=<TopkBackward>)"
            ]
          },
          "metadata": {
            "tags": []
          },
          "execution_count": 97
        }
      ]
    },
    {
      "metadata": {
        "id": "txKrpMu-T_98",
        "colab_type": "code",
        "colab": {}
      },
      "cell_type": "code",
      "source": [
        "def predict(image_path, model, topk=5):\n",
        "    ''' Predict the class (or classes) of an image using a trained deep learning model.\n",
        "    '''\n",
        "    \n",
        "    # TODO: Implement the code to predict the class from an image file   \n",
        "    im = Image.open(\"bride.jpg\")\n",
        "    prediction = vgg(img)  # Returns a Tensor of shape (batch, num class labels)\n",
        "    prediction = prediction.data.numpy().argmax()  # Our prediction will be the index of the class label with the largest value.\n",
        "    print labels[prediction]  # Converts the index to a string using our labels dict"
      ],
      "execution_count": 0,
      "outputs": []
    },
    {
      "metadata": {
        "id": "GZNITf8YT_-A",
        "colab_type": "text"
      },
      "cell_type": "markdown",
      "source": [
        "### Sanity Checking\n",
        "\n",
        "Now that you can use a trained model for predictions, check to make sure it makes sense. Even if the validation accuracy is high, it's always good to check that there aren't obvious bugs. Use `matplotlib` to plot the probabilities for the top 5 classes as a bar graph, along with the input image. It should look like this:\n",
        "\n",
        "<img src='assets/inference_example.png' width=300px>\n",
        "\n",
        "You can convert from the class integer encoding to actual flower names with the `cat_to_name.json` file (should have been loaded earlier in the notebook). To show a PyTorch tensor as an image, use the `imshow` function defined above."
      ]
    },
    {
      "metadata": {
        "id": "vcGDt12JT_-D",
        "colab_type": "code",
        "colab": {}
      },
      "cell_type": "code",
      "source": [
        "# TODO: Display an image along with the top 5 classes"
      ],
      "execution_count": 0,
      "outputs": []
    }
  ]
}